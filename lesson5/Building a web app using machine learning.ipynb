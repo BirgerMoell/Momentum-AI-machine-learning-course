{
 "cells": [
  {
   "cell_type": "markdown",
   "metadata": {},
   "source": [
    "# Building a AI web app\n",
    "Machine learning is it's own paradigm that is complicated to learn. However even if you learn everything about machine learning you need to figure out a way to get your machine learning model up and working online.\n",
    "\n",
    "There are a few different ways of doing that.\n",
    "\n",
    "The easiests is using a small python library, while other frameworks can be helpful for web applications"
   ]
  },
  {
   "cell_type": "markdown",
   "metadata": {
    "collapsed": true
   },
   "source": [
    "# Flask mini framework\n",
    "![alt text](files/flask.png \"Logo Title Text 1\")\n",
    "Flask is a micro framework for creating web server. With it you can create a web application that serves up your trained machine learning models in an API.\n",
    "\n"
   ]
  },
  {
   "cell_type": "markdown",
   "metadata": {},
   "source": [
    "# Trained keras model\n",
    "To be able to serve a model we need to train a model that can be returned with an API call. In our example we will train a simple classifier that classifies an image and returns the neural networks best guess of what the image is depicting."
   ]
  },
  {
   "cell_type": "code",
   "execution_count": null,
   "metadata": {
    "collapsed": true
   },
   "outputs": [],
   "source": [
    "# function for prediction\n",
    "def predict(data):\n",
    "    # load json and create model\n",
    "    json_file = open('task.json', 'r')\n",
    "    loaded_model_json = json_file.read()\n",
    "    json_file.close()\n",
    "    loaded_model = model_from_json(loaded_model_json)\n",
    "    # load weights into new model\n",
    "    loaded_model.load_weights(\"task.h5\")\n",
    "    print(\"Loaded model from disk\")\n",
    "    # predicting the model\n",
    "    print(\"Predicting the value\")\n",
    "    prediction = loaded_model.predict(np.swapaxes(np.array(data), 0, 1))\n",
    "    print(prediction)\n",
    "    one = False;\n",
    "\n",
    "    # this can definitely be improved for making better predictions\n",
    "    if (prediction[0][0] > 0.5):\n",
    "        one = True\n",
    "    if (one == False):\n",
    "        print(predictzero)\n",
    "    elif (one):\n",
    "        print(predictone)\n",
    "    else:\n",
    "        print(\"error\")"
   ]
  },
  {
   "cell_type": "code",
   "execution_count": 1,
   "metadata": {
    "collapsed": false
   },
   "outputs": [
    {
     "ename": "OSError",
     "evalue": "[Errno 48] Address already in use",
     "output_type": "error",
     "traceback": [
      "\u001b[0;31m---------------------------------------------------------------------------\u001b[0m",
      "\u001b[0;31mOSError\u001b[0m                                   Traceback (most recent call last)",
      "\u001b[0;32m<ipython-input-1-f02453805a08>\u001b[0m in \u001b[0;36m<module>\u001b[0;34m()\u001b[0m\n\u001b[1;32m     85\u001b[0m \u001b[0;34m\u001b[0m\u001b[0m\n\u001b[1;32m     86\u001b[0m \u001b[0;32mif\u001b[0m \u001b[0m__name__\u001b[0m \u001b[0;34m==\u001b[0m \u001b[0;34m'__main__'\u001b[0m\u001b[0;34m:\u001b[0m\u001b[0;34m\u001b[0m\u001b[0m\n\u001b[0;32m---> 87\u001b[0;31m     \u001b[0mapp\u001b[0m\u001b[0;34m.\u001b[0m\u001b[0mrun\u001b[0m\u001b[0;34m(\u001b[0m\u001b[0mdebug\u001b[0m\u001b[0;34m=\u001b[0m\u001b[0;32mTrue\u001b[0m\u001b[0;34m)\u001b[0m\u001b[0;34m\u001b[0m\u001b[0m\n\u001b[0m",
      "\u001b[0;32m/Users/birgermoell/anaconda/lib/python3.6/site-packages/flask/app.py\u001b[0m in \u001b[0;36mrun\u001b[0;34m(self, host, port, debug, **options)\u001b[0m\n\u001b[1;32m    841\u001b[0m         \u001b[0moptions\u001b[0m\u001b[0;34m.\u001b[0m\u001b[0msetdefault\u001b[0m\u001b[0;34m(\u001b[0m\u001b[0;34m'passthrough_errors'\u001b[0m\u001b[0;34m,\u001b[0m \u001b[0;32mTrue\u001b[0m\u001b[0;34m)\u001b[0m\u001b[0;34m\u001b[0m\u001b[0m\n\u001b[1;32m    842\u001b[0m         \u001b[0;32mtry\u001b[0m\u001b[0;34m:\u001b[0m\u001b[0;34m\u001b[0m\u001b[0m\n\u001b[0;32m--> 843\u001b[0;31m             \u001b[0mrun_simple\u001b[0m\u001b[0;34m(\u001b[0m\u001b[0mhost\u001b[0m\u001b[0;34m,\u001b[0m \u001b[0mport\u001b[0m\u001b[0;34m,\u001b[0m \u001b[0mself\u001b[0m\u001b[0;34m,\u001b[0m \u001b[0;34m**\u001b[0m\u001b[0moptions\u001b[0m\u001b[0;34m)\u001b[0m\u001b[0;34m\u001b[0m\u001b[0m\n\u001b[0m\u001b[1;32m    844\u001b[0m         \u001b[0;32mfinally\u001b[0m\u001b[0;34m:\u001b[0m\u001b[0;34m\u001b[0m\u001b[0m\n\u001b[1;32m    845\u001b[0m             \u001b[0;31m# reset the first request information if the development server\u001b[0m\u001b[0;34m\u001b[0m\u001b[0;34m\u001b[0m\u001b[0m\n",
      "\u001b[0;32m/Users/birgermoell/anaconda/lib/python3.6/site-packages/werkzeug/serving.py\u001b[0m in \u001b[0;36mrun_simple\u001b[0;34m(hostname, port, application, use_reloader, use_debugger, use_evalex, extra_files, reloader_interval, reloader_type, threaded, processes, request_handler, static_files, passthrough_errors, ssl_context)\u001b[0m\n\u001b[1;32m    675\u001b[0m             \u001b[0ms\u001b[0m \u001b[0;34m=\u001b[0m \u001b[0msocket\u001b[0m\u001b[0;34m.\u001b[0m\u001b[0msocket\u001b[0m\u001b[0;34m(\u001b[0m\u001b[0maddress_family\u001b[0m\u001b[0;34m,\u001b[0m \u001b[0msocket\u001b[0m\u001b[0;34m.\u001b[0m\u001b[0mSOCK_STREAM\u001b[0m\u001b[0;34m)\u001b[0m\u001b[0;34m\u001b[0m\u001b[0m\n\u001b[1;32m    676\u001b[0m             \u001b[0ms\u001b[0m\u001b[0;34m.\u001b[0m\u001b[0msetsockopt\u001b[0m\u001b[0;34m(\u001b[0m\u001b[0msocket\u001b[0m\u001b[0;34m.\u001b[0m\u001b[0mSOL_SOCKET\u001b[0m\u001b[0;34m,\u001b[0m \u001b[0msocket\u001b[0m\u001b[0;34m.\u001b[0m\u001b[0mSO_REUSEADDR\u001b[0m\u001b[0;34m,\u001b[0m \u001b[0;36m1\u001b[0m\u001b[0;34m)\u001b[0m\u001b[0;34m\u001b[0m\u001b[0m\n\u001b[0;32m--> 677\u001b[0;31m             \u001b[0ms\u001b[0m\u001b[0;34m.\u001b[0m\u001b[0mbind\u001b[0m\u001b[0;34m(\u001b[0m\u001b[0;34m(\u001b[0m\u001b[0mhostname\u001b[0m\u001b[0;34m,\u001b[0m \u001b[0mport\u001b[0m\u001b[0;34m)\u001b[0m\u001b[0;34m)\u001b[0m\u001b[0;34m\u001b[0m\u001b[0m\n\u001b[0m\u001b[1;32m    678\u001b[0m             \u001b[0;32mif\u001b[0m \u001b[0mhasattr\u001b[0m\u001b[0;34m(\u001b[0m\u001b[0ms\u001b[0m\u001b[0;34m,\u001b[0m \u001b[0;34m'set_inheritable'\u001b[0m\u001b[0;34m)\u001b[0m\u001b[0;34m:\u001b[0m\u001b[0;34m\u001b[0m\u001b[0m\n\u001b[1;32m    679\u001b[0m                 \u001b[0ms\u001b[0m\u001b[0;34m.\u001b[0m\u001b[0mset_inheritable\u001b[0m\u001b[0;34m(\u001b[0m\u001b[0;32mTrue\u001b[0m\u001b[0;34m)\u001b[0m\u001b[0;34m\u001b[0m\u001b[0m\n",
      "\u001b[0;31mOSError\u001b[0m: [Errno 48] Address already in use"
     ]
    }
   ],
   "source": [
    "# simple code for a python API using flask\n",
    "#!flask/bin/python\n",
    "from flask import Flask, jsonify\n",
    "\n",
    "app = Flask(__name__)\n",
    "\n",
    "tasks = [\n",
    "    {\n",
    "        'id': 1,\n",
    "        'title': u'Buy groceries',\n",
    "        'description': u'Milk, Cheese, Pizza, Fruit, Tylenol',\n",
    "        'done': False\n",
    "    },\n",
    "    {\n",
    "        'id': 2,\n",
    "        'title': u'Learn Python',\n",
    "        'description': u'Need to find a good Python tutorial on the web',\n",
    "        'done': False\n",
    "    }\n",
    "]\n",
    "\n",
    "\n",
    "from flask import abort\n",
    "\n",
    "# getting an individual task\n",
    "@app.route('/todo/api/v1.0/tasks/<int:task_id>', methods=['GET'])\n",
    "def get_task(task_id):\n",
    "    task = [task for task in tasks if task['id'] == task_id]\n",
    "    if len(task) == 0:\n",
    "        abort(404)\n",
    "    return jsonify({'task': task[0]})\n",
    "\n",
    "# getting all the tasks\n",
    "@app.route('/todo/api/v1.0/tasks', methods=['GET'])\n",
    "def get_tasks():\n",
    "    return jsonify({'tasks': tasks})\n",
    "\n",
    "from flask import make_response\n",
    "\n",
    "# error handling\n",
    "@app.errorhandler(404)\n",
    "def not_found(error):\n",
    "    return make_response(jsonify({'error': 'Not found'}), 404)\n",
    "\n",
    "from flask import request\n",
    "\n",
    "@app.route('/todo/api/v1.0/tasks', methods=['POST'])\n",
    "def create_task():\n",
    "    if not request.json or not 'title' in request.json:\n",
    "        abort(400)\n",
    "    task = {\n",
    "        'id': tasks[-1]['id'] +1,\n",
    "        'title': request.json['title'],\n",
    "        'description': request.json.get('description', \"\"),\n",
    "        'done': False\n",
    "    }\n",
    "    tasks.append(task)\n",
    "    return jsonify({'task': task}), 201\n",
    "\n",
    "@app.route('/todo/api/v1.0/tasks/<int:task_id>', methods=['PUT'])\n",
    "def update_task(task_id):\n",
    "    task = [task for task in tasks if task['id'] == task_id]\n",
    "    if len(task) == 0:\n",
    "        abort(404)\n",
    "    if not request.json:\n",
    "        abort(400)\n",
    "    if 'title' in request.json and type(request.json['title']) != unicode:\n",
    "        abort(400)\n",
    "    if 'description' in request.json and type(request.json['done']) is not bool:\n",
    "        abort(400)\n",
    "    if 'done' in request.json and type(request.json['done']) is not bool:\n",
    "        abort(400)\n",
    "    task[0]['title'] = request.json.get('title', task[0]['title'])\n",
    "    task[0]['description'] = request.json.get('description', task[0]['description'])\n",
    "    task[0]['done'] = request.json.get('done', task[0]['done'])\n",
    "    return jsonify({'task': task[0]})\n",
    "\n",
    "@app.route('/todo/api/v1.0/tasks/<int:task_id>', methods=['DELETE'])\n",
    "def delete_task(task_id):\n",
    "    task = [task for task in tasks if task['id'] == task_id]\n",
    "    if len(task) == 0:\n",
    "        abort(404)\n",
    "    tasks.remove(task[0])\n",
    "    return jsonify({'result': True})\n",
    "\n",
    "if __name__ == '__main__':\n",
    "    app.run(debug=True)\n"
   ]
  },
  {
   "cell_type": "code",
   "execution_count": null,
   "metadata": {
    "collapsed": true
   },
   "outputs": [],
   "source": []
  }
 ],
 "metadata": {
  "kernelspec": {
   "display_name": "Python 3",
   "language": "python",
   "name": "python3"
  },
  "language_info": {
   "codemirror_mode": {
    "name": "ipython",
    "version": 3
   },
   "file_extension": ".py",
   "mimetype": "text/x-python",
   "name": "python",
   "nbconvert_exporter": "python",
   "pygments_lexer": "ipython3",
   "version": "3.6.0"
  }
 },
 "nbformat": 4,
 "nbformat_minor": 2
}
