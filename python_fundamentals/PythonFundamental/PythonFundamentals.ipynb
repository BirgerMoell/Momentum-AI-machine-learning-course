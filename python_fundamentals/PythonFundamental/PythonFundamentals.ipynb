{
 "cells": [
  {
   "cell_type": "markdown",
   "metadata": {},
   "source": [
    "# Python cheat sheet"
   ]
  },
  {
   "cell_type": "markdown",
   "metadata": {},
   "source": [
    "## Variables and strings\n",
    "Variables are used to store values. A string is a series of\n",
    "characters, surrounded by single or double quotes."
   ]
  },
  {
   "cell_type": "code",
   "execution_count": 4,
   "metadata": {
    "collapsed": false
   },
   "outputs": [
    {
     "name": "stdout",
     "output_type": "stream",
     "text": [
      "Hello world!\n"
     ]
    }
   ],
   "source": [
    "#Hello world\n",
    "print(\"Hello world!\")"
   ]
  },
  {
   "cell_type": "code",
   "execution_count": 1,
   "metadata": {
    "collapsed": false
   },
   "outputs": [
    {
     "name": "stdout",
     "output_type": "stream",
     "text": [
      "Hello world!\n"
     ]
    }
   ],
   "source": [
    "print(\"Hello world!\")"
   ]
  },
  {
   "cell_type": "code",
   "execution_count": 2,
   "metadata": {
    "collapsed": false
   },
   "outputs": [
    {
     "name": "stdout",
     "output_type": "stream",
     "text": [
      "Hello world!\n"
     ]
    }
   ],
   "source": [
    "# Hello world with a variable\n",
    "msg = \"Hello world!\"\n",
    "print(msg)"
   ]
  },
  {
   "cell_type": "code",
   "execution_count": 3,
   "metadata": {
    "collapsed": false
   },
   "outputs": [
    {
     "name": "stdout",
     "output_type": "stream",
     "text": [
      "albert einstein\n"
     ]
    }
   ],
   "source": [
    "#Concatenation (combining strings)\n",
    "first_name = 'albert'\n",
    "last_name = 'einstein'\n",
    "full_name = first_name + ' ' + last_name\n",
    "print(full_name)"
   ]
  },
  {
   "cell_type": "markdown",
   "metadata": {},
   "source": [
    "# Lists\n",
    "A list stores a series of items in a particular order. You\n",
    "access items using an index, or within a loop."
   ]
  },
  {
   "cell_type": "code",
   "execution_count": 7,
   "metadata": {
    "collapsed": false
   },
   "outputs": [
    {
     "name": "stdout",
     "output_type": "stream",
     "text": [
      "banana\n",
      "apple\n",
      "pear\n",
      "sweater\n",
      "pants\n",
      "t-shirt\n",
      "[1, 4, 9, 16, 25, 36, 49, 64, 81, 100]\n"
     ]
    }
   ],
   "source": [
    "\n",
    "#Make a list\n",
    "fruits = ['banana', 'apple', 'pear']\n",
    "bikes = ['trek', 'redline', 'giant']\n",
    "\n",
    "#Get the first item in a list\n",
    "first_fruits = fruits[0]\n",
    "\n",
    "#Get the last item in a list\n",
    "last_fruits = fruits[-1]\n",
    "\n",
    "#Looping through a list\n",
    "for fruit in fruits:\n",
    "    print(fruit)\n",
    "    \n",
    "# Adding items to a list\n",
    "clothes = []\n",
    "clothes.append('sweater')\n",
    "clothes.append('pants')\n",
    "clothes.append('t-shirt')\n",
    "\n",
    "for item in clothes:\n",
    "    print(item)\n",
    "\n",
    "#Making numerical lists\n",
    "squares = []\n",
    "for x in range(1, 11):\n",
    "    squares.append(x**2)\n",
    "\n",
    "print(squares)"
   ]
  },
  {
   "cell_type": "code",
   "execution_count": 8,
   "metadata": {
    "collapsed": false
   },
   "outputs": [
    {
     "name": "stdout",
     "output_type": "stream",
     "text": [
      "['sweater', 'pants', 't-shirt']\n"
     ]
    }
   ],
   "source": [
    "# List comprehensions\n",
    "squares = [x**2 for x in range(1, 11)]\n",
    "\n",
    "#Slicing a list\n",
    "finishers = ['sam', 'bob', 'ada', 'bea']\n",
    "\n",
    "# copying the first two items\n",
    "first_two = finishers[:2]\n",
    "\n",
    "#Copying a list\n",
    "copy_of_clothes = clothes[:]\n",
    "\n",
    "print (copy_of_clothes)"
   ]
  },
  {
   "cell_type": "markdown",
   "metadata": {},
   "source": [
    "# Tuples\n",
    "Tuples are similar to lists, but the items in a tuple can't be\n",
    "modified."
   ]
  },
  {
   "cell_type": "code",
   "execution_count": 13,
   "metadata": {
    "collapsed": false
   },
   "outputs": [
    {
     "name": "stdout",
     "output_type": "stream",
     "text": [
      "(1920, 1080)\n"
     ]
    }
   ],
   "source": [
    "# Making a tuple\n",
    "dimensions = (1920, 1080)\n",
    "print (dimensions)"
   ]
  },
  {
   "cell_type": "markdown",
   "metadata": {},
   "source": [
    "# If statements\n",
    "If statements are used to test for particular conditions and respond appropriately"
   ]
  },
  {
   "cell_type": "code",
   "execution_count": null,
   "metadata": {
    "collapsed": true
   },
   "outputs": [],
   "source": [
    "# equals \n",
    "x == 42\n",
    "# not equal\n",
    "x != 42\n",
    "# greater than\n",
    "x > 42\n",
    "# greater than or equal to\n",
    "x >= 42\n",
    "# less than\n",
    "x < 42\n",
    "# less than or equal to\n",
    "x <= 42"
   ]
  },
  {
   "cell_type": "code",
   "execution_count": 17,
   "metadata": {
    "collapsed": false
   },
   "outputs": [
    {
     "data": {
      "text/plain": [
       "False"
      ]
     },
     "execution_count": 17,
     "metadata": {},
     "output_type": "execute_result"
    }
   ],
   "source": [
    "# Conditional tests with lists\n",
    "'trek' in bikes\n",
    "'surly' not in bikes"
   ]
  },
  {
   "cell_type": "code",
   "execution_count": 18,
   "metadata": {
    "collapsed": true
   },
   "outputs": [],
   "source": [
    "# Assigning boolean values\n",
    "game_activate = True\n",
    "can_edit = False"
   ]
  },
  {
   "cell_type": "code",
   "execution_count": 20,
   "metadata": {
    "collapsed": false
   },
   "outputs": [
    {
     "name": "stdout",
     "output_type": "stream",
     "text": [
      "You can vote!\n"
     ]
    }
   ],
   "source": [
    "# A simple if test\n",
    "age = 31\n",
    "\n",
    "if age >= 18:\n",
    "    print(\"You can vote!\")\n",
    "    "
   ]
  },
  {
   "cell_type": "code",
   "execution_count": 21,
   "metadata": {
    "collapsed": true
   },
   "outputs": [],
   "source": [
    "# If-elif-else statements\n",
    "if age < 4:\n",
    "    ticket_price = 0\n",
    "elif age < 18:\n",
    "    ticket_price = 10\n",
    "else:\n",
    "    ticket_price = 15"
   ]
  },
  {
   "cell_type": "markdown",
   "metadata": {},
   "source": [
    "# Dictionaries\n",
    "Dictionaries store connections between pieces of information. Each item in a dictionary is a key-value pair."
   ]
  },
  {
   "cell_type": "code",
   "execution_count": 29,
   "metadata": {
    "collapsed": false
   },
   "outputs": [
    {
     "name": "stdout",
     "output_type": "stream",
     "text": [
      "{'color': 'green', 'points': 5}\n"
     ]
    }
   ],
   "source": [
    "# A simple dictionary\n",
    "alien = {'color': 'green', 'points': 5}\n",
    "print(alien)"
   ]
  },
  {
   "cell_type": "code",
   "execution_count": 27,
   "metadata": {
    "collapsed": false
   },
   "outputs": [
    {
     "name": "stdout",
     "output_type": "stream",
     "text": [
      "The alien's color is green\n",
      "The aliens points are 5\n",
      "The aliens position is 0\n"
     ]
    }
   ],
   "source": [
    "# Accessing a value\n",
    "print(\"The alien's color is \" + alien['color'])\n",
    "print(\"The aliens points are \" + str(alien['points']))"
   ]
  },
  {
   "cell_type": "code",
   "execution_count": null,
   "metadata": {
    "collapsed": true
   },
   "outputs": [],
   "source": [
    "# Adding a new key-value pair\n",
    "alien['x_position'] = 0\n",
    "print(\"The aliens position is \" + str(alien['x_position']))"
   ]
  },
  {
   "cell_type": "code",
   "execution_count": 30,
   "metadata": {
    "collapsed": false
   },
   "outputs": [
    {
     "name": "stdout",
     "output_type": "stream",
     "text": [
      "eric loves 17\n",
      "ever loves 4\n"
     ]
    }
   ],
   "source": [
    "# Looping through all key-value pair\n",
    "fav_numbers = {'eric': 17, 'ever': 4}\n",
    "for name, number in fav_numbers.items():\n",
    "    print(name + ' loves ' + str(number))"
   ]
  },
  {
   "cell_type": "code",
   "execution_count": 32,
   "metadata": {
    "collapsed": false
   },
   "outputs": [
    {
     "name": "stdout",
     "output_type": "stream",
     "text": [
      "birger loves a number\n",
      "daniel loves a number\n"
     ]
    }
   ],
   "source": [
    "# Looping through all keys\n",
    "fav_numbers = {'birger': 42, 'daniel': 12}\n",
    "for name in fav_numbers.keys():\n",
    "    print(name + ' loves a number' )"
   ]
  },
  {
   "cell_type": "code",
   "execution_count": 33,
   "metadata": {
    "collapsed": false
   },
   "outputs": [
    {
     "name": "stdout",
     "output_type": "stream",
     "text": [
      "17 is a favorite\n",
      "4 is a favorite\n"
     ]
    }
   ],
   "source": [
    "# Looping through all the values\n",
    "fav_numbers = {'eric': 17, 'ever': 4}\n",
    "for number in fav_numbers.values():\n",
    "    print(str(number) + ' is a favorite')"
   ]
  },
  {
   "cell_type": "markdown",
   "metadata": {},
   "source": [
    "# User input\n",
    "Your programs can prompt the user for input. All input is stored as a string."
   ]
  },
  {
   "cell_type": "code",
   "execution_count": 34,
   "metadata": {
    "collapsed": false
   },
   "outputs": [
    {
     "name": "stdout",
     "output_type": "stream",
     "text": [
      "What's your name?Birger\n",
      "Hello, Birger!\n"
     ]
    }
   ],
   "source": [
    "# Prompting for a value\n",
    "name = input(\"What's your name?\")\n",
    "print(\"Hello, \" + name + \"!\")"
   ]
  },
  {
   "cell_type": "code",
   "execution_count": 35,
   "metadata": {
    "collapsed": false
   },
   "outputs": [
    {
     "name": "stdout",
     "output_type": "stream",
     "text": [
      "How old are you? 31\n",
      "What's the value of pi?3.1415\n"
     ]
    }
   ],
   "source": [
    "# Prompting for numerical input\n",
    "age = input(\"How old are you? \")\n",
    "age = int(age)\n",
    "\n",
    "pi = input(\"What's the value of pi?\")\n",
    "pi = float(pi)"
   ]
  },
  {
   "cell_type": "markdown",
   "metadata": {},
   "source": [
    "# While loops\n",
    "A while loop repeats a block of code as long as a certain condition is true."
   ]
  },
  {
   "cell_type": "code",
   "execution_count": 36,
   "metadata": {
    "collapsed": false
   },
   "outputs": [
    {
     "name": "stdout",
     "output_type": "stream",
     "text": [
      "1\n",
      "2\n",
      "3\n",
      "4\n",
      "5\n"
     ]
    }
   ],
   "source": [
    "#A simple while loop\n",
    "current_value = 1\n",
    "while current_value <= 5:\n",
    "    print(current_value)\n",
    "    current_value += 1"
   ]
  },
  {
   "cell_type": "code",
   "execution_count": 37,
   "metadata": {
    "collapsed": false
   },
   "outputs": [
    {
     "name": "stdout",
     "output_type": "stream",
     "text": [
      "What's your message? he\n",
      "he\n",
      "What's your message? quit\n",
      "quit\n"
     ]
    }
   ],
   "source": [
    "# Letting the user choose when to quit\n",
    "msg = ''\n",
    "while msg != 'quit':\n",
    "    msg = input(\"What's your message? \")\n",
    "    print(msg)"
   ]
  },
  {
   "cell_type": "markdown",
   "metadata": {},
   "source": [
    "# Functions\n",
    "Functions are named blocks of code, designed to do one specific job, Information passed to a function is called an argument, and information recieved by a function is called a parameter."
   ]
  },
  {
   "cell_type": "code",
   "execution_count": 39,
   "metadata": {
    "collapsed": false
   },
   "outputs": [
    {
     "name": "stdout",
     "output_type": "stream",
     "text": [
      "Hello!\n"
     ]
    }
   ],
   "source": [
    "# A simple function\n",
    "def greet_user():\n",
    "    '''Display a simple greeting.'''\n",
    "    print(\"Hello!\")\n",
    "    \n",
    "greet_user()"
   ]
  },
  {
   "cell_type": "code",
   "execution_count": 43,
   "metadata": {
    "collapsed": false
   },
   "outputs": [
    {
     "name": "stdout",
     "output_type": "stream",
     "text": [
      "Hello Birger\n"
     ]
    }
   ],
   "source": [
    "# Passing an argument\n",
    "def greet_user(username):\n",
    "    '''Display a personalised greeting'''\n",
    "    print(\"Hello \" + username)\n",
    "    \n",
    "greet_user(\"Birger\")"
   ]
  },
  {
   "cell_type": "code",
   "execution_count": 41,
   "metadata": {
    "collapsed": false
   },
   "outputs": [
    {
     "name": "stdout",
     "output_type": "stream",
     "text": [
      "Have a bacon pizza!\n",
      "Have a pepperoni pizza!\n"
     ]
    }
   ],
   "source": [
    "# Default values for parameters\n",
    "def make_pizza(topping='bacon'):\n",
    "    '''Make a single-topping pizza'''\n",
    "    print(\"Have a \" + topping + \" pizza!\")\n",
    "    \n",
    "make_pizza()\n",
    "make_pizza('pepperoni')"
   ]
  },
  {
   "cell_type": "code",
   "execution_count": 46,
   "metadata": {
    "collapsed": false
   },
   "outputs": [
    {
     "name": "stdout",
     "output_type": "stream",
     "text": [
      "24\n"
     ]
    }
   ],
   "source": [
    "# Returning a value\n",
    "def add_numbers(x, y):\n",
    "    '''Add two numbers together and return the sum'''\n",
    "    return x + y\n",
    "\n",
    "sum = add_numbers(10, 14)\n",
    "\n",
    "print(sum)"
   ]
  },
  {
   "cell_type": "markdown",
   "metadata": {},
   "source": [
    "# Classes\n",
    "A class is defines the behaviour of an object and the kind of information an object can store. The information in a class is stored in attributes, and functions that belong to a class are called methods. A child class inherits the attribtues and methods from its parent class."
   ]
  },
  {
   "cell_type": "code",
   "execution_count": 47,
   "metadata": {
    "collapsed": false
   },
   "outputs": [
    {
     "name": "stdout",
     "output_type": "stream",
     "text": [
      "Peso is a great dog!\n",
      "Peso is sitting.\n"
     ]
    }
   ],
   "source": [
    "# Creating a dog class\n",
    "class Dog():\n",
    "    '''Represent a dog.'''\n",
    "    \n",
    "    def __init__(self, name):\n",
    "        '''Initialise dog object.'''\n",
    "        self.name = name\n",
    "        \n",
    "    def sit(self):\n",
    "        '''Simulate sitting'''\n",
    "        print(self.name + \" is sitting.\")\n",
    "        \n",
    "my_dog = Dog('Peso')\n",
    "\n",
    "print(my_dog.name + \" is a great dog!\")\n",
    "my_dog.sit()"
   ]
  },
  {
   "cell_type": "code",
   "execution_count": 48,
   "metadata": {
    "collapsed": false
   },
   "outputs": [
    {
     "name": "stdout",
     "output_type": "stream",
     "text": [
      "Willie is a search dog.\n",
      "Willie is sitting.\n",
      "Willie is searching.\n"
     ]
    }
   ],
   "source": [
    "# Inheritance\n",
    "class SARDog(Dog):\n",
    "    '''Represent a search dog.'''\n",
    "    \n",
    "    def __init__(self, name):\n",
    "       '''Initialize the sardog.'''\n",
    "       super().__init__(name)\n",
    "       \n",
    "    def search(self):\n",
    "        '''Simulate searching.'''\n",
    "        print(self.name + \" is searching.\")\n",
    "        \n",
    "my_dog  = SARDog('Willie')\n",
    "\n",
    "print(my_dog.name + \" is a search dog.\")\n",
    "my_dog.sit()\n",
    "my_dog.search()"
   ]
  },
  {
   "cell_type": "markdown",
   "metadata": {},
   "source": [
    "# Working with files\n",
    "Your programs can read from files and write to files. Files are opened in read mode ('r') by default, but can also be opened in write mode ('w') and append mode ('a').\n",
    "\n"
   ]
  },
  {
   "cell_type": "code",
   "execution_count": 53,
   "metadata": {
    "collapsed": false
   },
   "outputs": [
    {
     "name": "stdout",
     "output_type": "stream",
     "text": [
      "this is awesome\n",
      "\n"
     ]
    }
   ],
   "source": [
    "# Reading a file and stroing its lines\n",
    "filename = 'awesome.txt'\n",
    "with open(filename) as file_object:\n",
    "    lines = file_object.readlines()\n",
    "    \n",
    "for line in lines:\n",
    "    print(line)"
   ]
  },
  {
   "cell_type": "code",
   "execution_count": 50,
   "metadata": {
    "collapsed": true
   },
   "outputs": [],
   "source": [
    "# Writing to a file\n",
    "filename = 'journal.txt'\n",
    "with open(filename, 'w') as file_object:\n",
    "    file_object.write(\"I love programming.\")"
   ]
  },
  {
   "cell_type": "code",
   "execution_count": 51,
   "metadata": {
    "collapsed": true
   },
   "outputs": [],
   "source": [
    "filename = 'journal.txt'\n",
    "with open(filename, 'a') as file_object:\n",
    "    file_object.write(\"\\nI love making games.\")"
   ]
  },
  {
   "cell_type": "markdown",
   "metadata": {},
   "source": [
    "# Exceptions\n",
    "Exceptions help you respond appropriately to errors that are likely to occur. You place code that might cause an error in the try block. Code that should run in response to an error goes in the except block. Code that should run only if the try block was succesful goes in the else block. "
   ]
  },
  {
   "cell_type": "code",
   "execution_count": 55,
   "metadata": {
    "collapsed": false
   },
   "outputs": [
    {
     "name": "stdout",
     "output_type": "stream",
     "text": [
      "How many tickets do you need? dfdf\n",
      "Please try again.\n"
     ]
    }
   ],
   "source": [
    "# Catching an exception\n",
    "prompt = \"How many tickets do you need? \"\n",
    "num_tickets = input(prompt)\n",
    "\n",
    "try:\n",
    "    num_tickets = int(num_tickets)\n",
    "except ValueError:\n",
    "    print(\"Please try again.\")\n",
    "else:\n",
    "    print(\"Your tickets are printing.\")"
   ]
  },
  {
   "cell_type": "code",
   "execution_count": null,
   "metadata": {
    "collapsed": true
   },
   "outputs": [],
   "source": []
  }
 ],
 "metadata": {
  "kernelspec": {
   "display_name": "Python 3",
   "language": "python",
   "name": "python3"
  },
  "language_info": {
   "codemirror_mode": {
    "name": "ipython",
    "version": 3
   },
   "file_extension": ".py",
   "mimetype": "text/x-python",
   "name": "python",
   "nbconvert_exporter": "python",
   "pygments_lexer": "ipython3",
   "version": "3.6.0"
  }
 },
 "nbformat": 4,
 "nbformat_minor": 2
}
