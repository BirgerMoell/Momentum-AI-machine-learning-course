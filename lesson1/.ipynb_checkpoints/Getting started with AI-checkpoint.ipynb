{
 "cells": [
  {
   "cell_type": "markdown",
   "metadata": {},
   "source": [
    "# This is a Jupyter notebook. \n",
    "\n",
    "It's an interactive way to write Python code. Most of machine learning is done using Python because Python is great for data analysis and the biggest machine learning libraries (Tensorflow and Keras) are made in Python.\n",
    "\n",
    "Here you can learn how to get started with Jupyter Notebooks.\n",
    "http://jupyter.org/\n",
    "\n",
    "In Machine Learning there really isn't a big question of what language to use. The answer is obviously Python. So just start learning Python.\n",
    "https://www.python.org/"
   ]
  },
  {
   "cell_type": "markdown",
   "metadata": {},
   "source": [
    "## What is AI or Machine Learning?\n",
    "<img src=\"../files/datasteps.jpg\">\n",
    "Machine Learning is a way to make computers make decisions based on data. There is actually two types of machine learning, unsupervised and supervised learning. Our work will focus on supervised learning because it is the field that is making the most progress right now. \n",
    "\n",
    "For all supervised learning , the first rule of machine learning is this.\n",
    "All your output is determined on your input.\n",
    "\n",
    "Garbaged in -> Garbaged out\n",
    "\n",
    "So the biggest problem in machine learning isn't always how to train your machine learning models, it's how to get good data. "
   ]
  },
  {
   "cell_type": "markdown",
   "metadata": {},
   "source": [
    "## What do I need to do in order to get started with machine learning?\n",
    "Machine learning and AI is a huge discipline that is always growing. However it's easy to get started and it's moving really fast so you can just grab on and stay on the bleeding edge of technology.\n",
    "\n",
    "Google open sourcing Tensorflow https://www.tensorflow.org/ made it much easier to get started in machine learning. What would have taken months to do ten years ago can now be accomplished in days.\n",
    "\n",
    "\n",
    "\n",
    "\n"
   ]
  },
  {
   "cell_type": "markdown",
   "metadata": {},
   "source": [
    "# What is an artificial neural network?\n",
    "<img src=\"../files/neuralnetwork.png\">\n",
    "The part of machine learning that has been making the most progress in the last years are artificial neural networks, a form of machine learning that is loosely modeled on synapses in the brain. Artificual neural network has been proved really effective at making progress in many different domains.\n",
    "\n",
    "For getting started with artificial neural networks, Keras is an excellent library built on top of the Tensorflow API.\n",
    "https://keras.io/\n",
    "\n",
    "\n",
    "## Here is a good video explaining artificial neural networks\n",
    "https://www.youtube.com/watch?v=ILsA4nyG7I0\n",
    "\n"
   ]
  },
  {
   "cell_type": "markdown",
   "metadata": {},
   "source": [
    "# The math of machine learning\n",
    "The truth is that math is a big part of machine learning but you don't need to know any math to get started with machine learning. It's an excellent idea to pick up the math along the way and to expand the field of machine learning you definitely need to learn math."
   ]
  },
  {
   "cell_type": "code",
   "execution_count": null,
   "metadata": {
    "collapsed": true
   },
   "outputs": [],
   "source": []
  }
 ],
 "metadata": {
  "kernelspec": {
   "display_name": "Python 3",
   "language": "python",
   "name": "python3"
  },
  "language_info": {
   "codemirror_mode": {
    "name": "ipython",
    "version": 3
   },
   "file_extension": ".py",
   "mimetype": "text/x-python",
   "name": "python",
   "nbconvert_exporter": "python",
   "pygments_lexer": "ipython3",
   "version": "3.6.0"
  }
 },
 "nbformat": 4,
 "nbformat_minor": 2
}
