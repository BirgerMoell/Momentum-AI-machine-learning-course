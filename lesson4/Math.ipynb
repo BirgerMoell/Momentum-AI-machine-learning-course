{
 "cells": [
  {
   "cell_type": "code",
   "execution_count": 21,
   "metadata": {
    "collapsed": false
   },
   "outputs": [
    {
     "data": {
      "image/png": "[encoded data removed]",
      "text/plain": [
       "<matplotlib.figure.Figure at 0x10b63a748>"
      ]
     },
     "metadata": {},
     "output_type": "display_data"
    }
   ],
   "source": [
    "import numpy as np\n",
    "import matplotlib.pyplot as plt\n",
    "\n",
    "#exercise\n",
    "\n",
    "input = np.array([[0.52, 0.47, 0.6, 0.5, 0.56]])\n",
    "\n",
    "# plt.matshow(input)\n",
    "# plt.show()\n",
    "\n",
    "plt.matshow(np.arange(0,1, 16).reshape([-1,1] ))\n",
    "plt.show()\n"
   ]
  },
  {
   "cell_type": "markdown",
   "metadata": {},
   "source": [
    "# Backprop\n",
    "\n",
    "## Gradient descent\n",
    "\n",
    "Do you like gradient descent. Look at this notebook.\n",
    "Or put some stuff from that notebook in our notebook.\n",
    "\n",
    "## Objective functions (Loss function)\n",
    "\n",
    "### Derivatives\n",
    "\n",
    "### Chain rule\n",
    "\n",
    "4 + w1 = 5\n",
    "\n",
    "loss equals 1\n",
    "\n",
    "4 + w2 = 3\n",
    "\n",
    "loss equals -1\n",
    "\n",
    "\n",
    "\n",
    "\n",
    "\n",
    "# Forward prop\n",
    "\n",
    "## Activation function\n",
    "\n",
    "### Sigmoid, Relu, Softmax\n",
    "\n",
    "### Non-linear relationships\n",
    "\n",
    "\n",
    "## Weight multiplication\n",
    "\n",
    "w*x\n",
    "\n",
    "\n",
    "## Initialisation\n",
    "\n",
    "kx + m = y\n",
    "w*x + b = y\n",
    "\n",
    "w1*x1\n",
    "\n",
    "w1*x1 + b\n",
    "\n",
    "## Universal function approximator\n",
    "\n",
    "### LSTM = Turing Machine\n",
    "\n",
    "\n",
    "## Normalization\n",
    "\n",
    "Normalizisation of input values to avoid feature scaling\n",
    "\n",
    "Normalization of output valies to have fun\n",
    "\n",
    "\n",
    "# Have fun\n",
    "\n",
    "## Feynman lectures\n",
    "\n",
    "\n",
    "\n"
   ]
  },
  {
   "cell_type": "code",
   "execution_count": null,
   "metadata": {
    "collapsed": true
   },
   "outputs": [],
   "source": []
  }
 ],
 "metadata": {
  "kernelspec": {
   "display_name": "Python 3",
   "language": "python",
   "name": "python3"
  },
  "language_info": {
   "codemirror_mode": {
    "name": "ipython",
    "version": 3
   },
   "file_extension": ".py",
   "mimetype": "text/x-python",
   "name": "python",
   "nbconvert_exporter": "python",
   "pygments_lexer": "ipython3",
   "version": "3.6.0"
  }
 },
 "nbformat": 4,
 "nbformat_minor": 2
}
