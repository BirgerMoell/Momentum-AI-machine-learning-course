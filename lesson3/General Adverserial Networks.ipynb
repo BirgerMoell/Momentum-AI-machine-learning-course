{
 "cells": [
  {
   "cell_type": "markdown",
   "metadata": {},
   "source": [
    "\n",
    "![title](files/gans.png)\n",
    "\n",
    "Generative adversarial networks (GANs) are a class of artificial intelligence algorithms used in unsupervised machine learning, implemented by a system of two neural networks contesting with each other in a zero-sum game framework. They were introduced by Ian Goodfellow et al. in 2014,[1] although the idea of adversarial training dates back to Jürgen Schmidhuber in 1992.[2]\n",
    "\n",
    "This technique can generate photographs that look authentic to human observers. For example, a synthetic photograph of a cat that fools the discriminator into accepting it as an actual photograph.[3]\n",
    "\n",
    "One network generates candidates and one evaluates them.[1] Typically, the generative network learns to map from a latent space to a particular data distribution of interest, while the discriminative network discriminates between instances from the true data distribution and candidates produced by the generator. The generative network's training objective is to increase the error rate of the discriminative network (i.e., \"fool\" the discriminator network by producing novel synthesized instances that appear to have come from the true data distribution).[1][4]\n",
    "\n",
    "In practice, a known dataset serves as the initial training data for the discriminator. Training the discriminator involves presenting it with samples from the dataset, until it reaches some level of accuracy. Typically the generator is seeded with a randomized input that is sampled from a predefined latent space (e.g. a multivariate normal distribution). Thereafter, samples synthesized by the generator are evaluated by the discriminator. Backpropagation is applied in both networks so that the generator produces better images, while the discriminator becomes more skilled at flagging synthetic images. [5] The generator is typically a deconvolutional neural network, and the discriminator is a convolutional neural network.\n",
    "\n",
    "The idea to infer models in a competitive setting (model versus discriminator) was proposed by Li, Gauci and Gross in 2013.[6] Their method is used for behavioral inference. It is termed Turing Learning,[7] as the setting is akin to that of a Turing test.\n",
    "\n",
    "## Application\n",
    "\n",
    "![title](files/ganshype.png)\n",
    "GANs have been used to produce samples of photorealistic images for the purposes of visualizing new interior/industrial design, shoes, bags and clothing items or items for computer games' scenes. These networks were reported to be used by Facebook.[8] Recently, GANs have modeled patterns of motion in video. They have also been used to reconstruct 3D models of objects from images and to improve astronomical images.\n",
    "\n",
    "## Tutorial\n",
    "https://medium.com/@devnag/generative-adversarial-networks-gans-in-50-lines-of-code-pytorch-e81b79659e3f\n",
    "\n",
    "\n",
    "The original, genuine data set\n",
    "I: The random noise that goes into the generator as a source of entropy\n",
    "G: The generator which tries to copy/mimic the original data set\n",
    "D: The discriminator which tries to tell apart G’s output from R\n",
    "The actual ‘training’ loop where we teach G to trick D and D to beware G.\n"
   ]
  },
  {
   "cell_type": "code",
   "execution_count": null,
   "metadata": {
    "collapsed": false
   },
   "outputs": [],
   "source": []
  },
  {
   "cell_type": "code",
   "execution_count": null,
   "metadata": {
    "collapsed": true
   },
   "outputs": [],
   "source": []
  }
 ],
 "metadata": {
  "kernelspec": {
   "display_name": "Python 3",
   "language": "python",
   "name": "python3"
  },
  "language_info": {
   "codemirror_mode": {
    "name": "ipython",
    "version": 3
   },
   "file_extension": ".py",
   "mimetype": "text/x-python",
   "name": "python",
   "nbconvert_exporter": "python",
   "pygments_lexer": "ipython3",
   "version": "3.6.0"
  }
 },
 "nbformat": 4,
 "nbformat_minor": 2
}
